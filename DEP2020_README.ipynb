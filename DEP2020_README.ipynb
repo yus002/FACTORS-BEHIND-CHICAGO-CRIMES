{
 "cells": [
  {
   "cell_type": "markdown",
   "metadata": {},
   "source": [
    "# DEP 2020 Final Project\n",
    "## -- Factors Behind Chicago Crime"
   ]
  },
  {
   "cell_type": "markdown",
   "metadata": {},
   "source": [
    "MSCA 31012 Data Engineering Platform Final Project  \n",
    "### Executive Summary\n",
    "The purpose of this project is to provide valuable insights to citizens of Chicago and public service departments to relieve public safety pressure and help residents to understand trends of crimes at Chicago with tips."
   ]
  },
  {
   "cell_type": "markdown",
   "metadata": {},
   "source": [
    "### Getting Started"
   ]
  },
  {
   "cell_type": "markdown",
   "metadata": {},
   "source": [
    "**Problem & Motivation**\n",
    "Problem  \n",
    "Identify and analyze factors behind Chicago crimes  \n",
    "  \n",
    "Motivation  \n",
    "1. Citizens of Chicago can understand which factors may influence crime rates at specific area  \n",
    "2. Helpful to protect personal and property safety  \n",
    "3. Public service departments can better understand hidden factors  \n",
    "4. Implement better initiatives to enhance the security of Chicago"
   ]
  },
  {
   "cell_type": "markdown",
   "metadata": {},
   "source": [
    "### Sources & Tools in This Project"
   ]
  },
  {
   "cell_type": "markdown",
   "metadata": {},
   "source": [
    "Portal: Chicago Public Safety - Crimes  \n",
    "https://data.cityofchicago.org/Public-Safety/Crimes-2001-to-Present/ijzp-q8t2  \n",
    "Chicago Public Safety - Police Stations  \n",
    "https://data.cityofchicago.org/Public-Safety/Police-Stations/z8bn-74gv  \n",
    "Chicago Transportatioin - System Information of CTA  \n",
    "https://data.cityofchicago.org/Transportation/CTA-System-Information-List-of-L-StopsData/8pix-ypme/data  \n",
    "Affordable Housing Development  \n",
    "https://data.cityofchicago.org/Community-Economic-Development/Affordable-Rental-Housing-Developments/s6ha-ppgi  \n",
    "Community Area Boundaries (for visualization only)  \n",
    "https://data.cityofchicago.org/Facilities-Geographic-Boundaries/Boundaries-Community-Areas-current-/cauq-8yn6  \n",
    "\n",
    "External: Chicago Demographic  \n",
    "https://www.cps.edu/globalassets/cps-pages/initiatives/cps-ara-district-2019-041720.pdf  \n"
   ]
  },
  {
   "cell_type": "markdown",
   "metadata": {},
   "source": [
    "### Data Processing & Codes"
   ]
  },
  {
   "cell_type": "markdown",
   "metadata": {},
   "source": [
    "CleanCrimes.ipynb ------------------------ Jupyter Notebook for cleaning Crimes Table  \n",
    "CleanCrimes_parsedate.ipynb  --------- Jupyter Notebook for parsing DATE column with openrefine merged data  \n",
    "CleanCTA.ipynb ---------------------------- Jupyter Notebook for cleaning CTA data  \n",
    "CleanPoliceStation.ipynb ---------------- Jupyter Notebook for cleaning Police Station location file  \n",
    "CleanRentalHousing.ipynb -------------- Jupyter Notebook for cleaning Affordable Rental Housing data  \n",
    "Demographic Data Process.ipynb ----- Jupyter Notebook for cleaning and merging Demographic Data  \n",
    "531.ipynb ------------------------------------- Jupyter Notebook for extracting one day record from crime table  \n",
    "quries.sql ------------------------------------- SQL Script file for quries within GCP SQL Server"
   ]
  },
  {
   "cell_type": "markdown",
   "metadata": {},
   "source": [
    "### Database Schema / Info & Cloud Deployment"
   ]
  },
  {
   "cell_type": "markdown",
   "metadata": {},
   "source": [
    "In the SQL folder, two files were generated to establish snowflake schema for Dimensional Model  \n",
    "FACTDDL.sql ------------------------------- DDL file ready to run to generate schema in MySQL WORKBENCH or Cloud  \n",
    "ddlfinalproject.txt --------------------------- DDL file in txt format for backup  \n",
    "  \n",
    "163360 Crime Records Stored with Google Cloud Platform SQL Database  \n",
    "  \n",
    "MongoDB.pdf -------------------------------- PDF file for prototype MongoDB database with TOP20 crimes based on District, Community and Location"
   ]
  },
  {
   "cell_type": "markdown",
   "metadata": {},
   "source": [
    "### Data Visualization & Insights"
   ]
  },
  {
   "cell_type": "markdown",
   "metadata": {},
   "source": [
    "Crime Tableau Visualization.twbx ------------------------ Tableau file with visualization based on crime records   \n",
    "Crime Tableau Visualization2.twbx  ---------------------- Tableau file with visualization based on crime records   \n",
    "demogroupanalysis.twbx ---------------------------------- Tableau file with visualization based on demographic info   \n",
    "Crime_Kmeans_Analysis_NEW.ipynb ----------------- Jupyter Notebook file of KMeans clustering analysis for combination of demographic data and crime records"
   ]
  }
 ],
 "metadata": {
  "kernelspec": {
   "display_name": "Python 3",
   "language": "python",
   "name": "python3"
  },
  "language_info": {
   "codemirror_mode": {
    "name": "ipython",
    "version": 3
   },
   "file_extension": ".py",
   "mimetype": "text/x-python",
   "name": "python",
   "nbconvert_exporter": "python",
   "pygments_lexer": "ipython3",
   "version": "3.7.4"
  }
 },
 "nbformat": 4,
 "nbformat_minor": 2
}
